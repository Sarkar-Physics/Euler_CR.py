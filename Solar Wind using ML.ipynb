{
 "cells": [
  {
   "cell_type": "markdown",
   "metadata": {},
   "source": [
    "# Loading the Dataset"
   ]
  },
  {
   "cell_type": "code",
   "execution_count": 1,
   "metadata": {},
   "outputs": [
    {
     "data": {
      "text/plain": [
       "(8625, 18)"
      ]
     },
     "execution_count": 1,
     "metadata": {},
     "output_type": "execute_result"
    }
   ],
   "source": [
    "import pandas as pd\n",
    "import numpy as np\n",
    "import csv\n",
    "filename='E:/fizics honurs not sho eazi/###INTERNSHIP(SPACE WEATHER)/#New folder/sw_classification_data.txt'\n",
    "table=np.loadtxt(filename,skiprows=6)\n",
    "table.shape"
   ]
  },
  {
   "cell_type": "code",
   "execution_count": 2,
   "metadata": {},
   "outputs": [
    {
     "data": {
      "text/html": [
       "<div>\n",
       "<style scoped>\n",
       "    .dataframe tbody tr th:only-of-type {\n",
       "        vertical-align: middle;\n",
       "    }\n",
       "\n",
       "    .dataframe tbody tr th {\n",
       "        vertical-align: top;\n",
       "    }\n",
       "\n",
       "    .dataframe thead th {\n",
       "        text-align: right;\n",
       "    }\n",
       "</style>\n",
       "<table border=\"1\" class=\"dataframe\">\n",
       "  <thead>\n",
       "    <tr style=\"text-align: right;\">\n",
       "      <th></th>\n",
       "      <th>yr</th>\n",
       "      <th>mon</th>\n",
       "      <th>day</th>\n",
       "      <th>hr</th>\n",
       "      <th>flag</th>\n",
       "      <th>Bt</th>\n",
       "      <th>Np</th>\n",
       "      <th>Tp(K)</th>\n",
       "      <th>Vp</th>\n",
       "      <th>Sp</th>\n",
       "      <th>Va</th>\n",
       "      <th>Tex/Tp</th>\n",
       "      <th>Na/Np</th>\n",
       "      <th>Pd</th>\n",
       "      <th>Ey</th>\n",
       "      <th>bta</th>\n",
       "      <th>Ma</th>\n",
       "      <th>Mf</th>\n",
       "    </tr>\n",
       "  </thead>\n",
       "  <tbody>\n",
       "    <tr>\n",
       "      <th>0</th>\n",
       "      <td>1995.0</td>\n",
       "      <td>2.0</td>\n",
       "      <td>8.0</td>\n",
       "      <td>7.0</td>\n",
       "      <td>4.0</td>\n",
       "      <td>0.9250</td>\n",
       "      <td>-0.3638</td>\n",
       "      <td>-0.7703</td>\n",
       "      <td>-0.3763</td>\n",
       "      <td>-0.6618</td>\n",
       "      <td>0.8250</td>\n",
       "      <td>0.1800</td>\n",
       "      <td>-0.3294</td>\n",
       "      <td>-0.4889</td>\n",
       "      <td>1.8953</td>\n",
       "      <td>-0.4069</td>\n",
       "      <td>-0.9616</td>\n",
       "      <td>-1.394</td>\n",
       "    </tr>\n",
       "    <tr>\n",
       "      <th>1</th>\n",
       "      <td>1995.0</td>\n",
       "      <td>2.0</td>\n",
       "      <td>8.0</td>\n",
       "      <td>8.0</td>\n",
       "      <td>4.0</td>\n",
       "      <td>0.9468</td>\n",
       "      <td>-0.2611</td>\n",
       "      <td>-0.7691</td>\n",
       "      <td>-0.3544</td>\n",
       "      <td>-0.6785</td>\n",
       "      <td>0.7122</td>\n",
       "      <td>0.1968</td>\n",
       "      <td>-0.8299</td>\n",
       "      <td>-0.4054</td>\n",
       "      <td>1.7812</td>\n",
       "      <td>-0.4014</td>\n",
       "      <td>-0.9106</td>\n",
       "      <td>-1.254</td>\n",
       "    </tr>\n",
       "    <tr>\n",
       "      <th>2</th>\n",
       "      <td>1995.0</td>\n",
       "      <td>2.0</td>\n",
       "      <td>8.0</td>\n",
       "      <td>9.0</td>\n",
       "      <td>4.0</td>\n",
       "      <td>1.0121</td>\n",
       "      <td>-0.2098</td>\n",
       "      <td>-0.8870</td>\n",
       "      <td>-0.4127</td>\n",
       "      <td>-0.7494</td>\n",
       "      <td>0.7122</td>\n",
       "      <td>0.6320</td>\n",
       "      <td>-1.0995</td>\n",
       "      <td>-0.4165</td>\n",
       "      <td>1.4432</td>\n",
       "      <td>-0.4051</td>\n",
       "      <td>-0.9276</td>\n",
       "      <td>-1.324</td>\n",
       "    </tr>\n",
       "    <tr>\n",
       "      <th>3</th>\n",
       "      <td>1995.0</td>\n",
       "      <td>2.0</td>\n",
       "      <td>8.0</td>\n",
       "      <td>10.0</td>\n",
       "      <td>4.0</td>\n",
       "      <td>1.0339</td>\n",
       "      <td>0.0126</td>\n",
       "      <td>-0.9311</td>\n",
       "      <td>-0.4565</td>\n",
       "      <td>-0.7869</td>\n",
       "      <td>0.5054</td>\n",
       "      <td>0.8998</td>\n",
       "      <td>-1.1380</td>\n",
       "      <td>-0.2218</td>\n",
       "      <td>1.0292</td>\n",
       "      <td>-0.3959</td>\n",
       "      <td>-0.8597</td>\n",
       "      <td>-1.114</td>\n",
       "    </tr>\n",
       "    <tr>\n",
       "      <th>4</th>\n",
       "      <td>1995.0</td>\n",
       "      <td>2.0</td>\n",
       "      <td>8.0</td>\n",
       "      <td>11.0</td>\n",
       "      <td>4.0</td>\n",
       "      <td>1.1427</td>\n",
       "      <td>-0.1414</td>\n",
       "      <td>-0.9405</td>\n",
       "      <td>-0.4929</td>\n",
       "      <td>-0.7849</td>\n",
       "      <td>0.7310</td>\n",
       "      <td>0.9277</td>\n",
       "      <td>-1.2150</td>\n",
       "      <td>-0.4110</td>\n",
       "      <td>0.8602</td>\n",
       "      <td>-0.4069</td>\n",
       "      <td>-0.9616</td>\n",
       "      <td>-1.394</td>\n",
       "    </tr>\n",
       "  </tbody>\n",
       "</table>\n",
       "</div>"
      ],
      "text/plain": [
       "       yr  mon  day    hr  flag      Bt      Np   Tp(K)      Vp      Sp  \\\n",
       "0  1995.0  2.0  8.0   7.0   4.0  0.9250 -0.3638 -0.7703 -0.3763 -0.6618   \n",
       "1  1995.0  2.0  8.0   8.0   4.0  0.9468 -0.2611 -0.7691 -0.3544 -0.6785   \n",
       "2  1995.0  2.0  8.0   9.0   4.0  1.0121 -0.2098 -0.8870 -0.4127 -0.7494   \n",
       "3  1995.0  2.0  8.0  10.0   4.0  1.0339  0.0126 -0.9311 -0.4565 -0.7869   \n",
       "4  1995.0  2.0  8.0  11.0   4.0  1.1427 -0.1414 -0.9405 -0.4929 -0.7849   \n",
       "\n",
       "       Va  Tex/Tp   Na/Np      Pd      Ey     bta      Ma     Mf  \n",
       "0  0.8250  0.1800 -0.3294 -0.4889  1.8953 -0.4069 -0.9616 -1.394  \n",
       "1  0.7122  0.1968 -0.8299 -0.4054  1.7812 -0.4014 -0.9106 -1.254  \n",
       "2  0.7122  0.6320 -1.0995 -0.4165  1.4432 -0.4051 -0.9276 -1.324  \n",
       "3  0.5054  0.8998 -1.1380 -0.2218  1.0292 -0.3959 -0.8597 -1.114  \n",
       "4  0.7310  0.9277 -1.2150 -0.4110  0.8602 -0.4069 -0.9616 -1.394  "
      ]
     },
     "execution_count": 2,
     "metadata": {},
     "output_type": "execute_result"
    }
   ],
   "source": [
    "df=pd.DataFrame(table,columns=['yr','mon','day','hr','flag','Bt','Np','Tp(K)','Vp','Sp','Va','Tex/Tp','Na/Np','Pd','Ey','bta','Ma','Mf'])\n",
    "df.head()"
   ]
  },
  {
   "cell_type": "code",
   "execution_count": 3,
   "metadata": {},
   "outputs": [
    {
     "data": {
      "text/html": [
       "<div>\n",
       "<style scoped>\n",
       "    .dataframe tbody tr th:only-of-type {\n",
       "        vertical-align: middle;\n",
       "    }\n",
       "\n",
       "    .dataframe tbody tr th {\n",
       "        vertical-align: top;\n",
       "    }\n",
       "\n",
       "    .dataframe thead th {\n",
       "        text-align: right;\n",
       "    }\n",
       "</style>\n",
       "<table border=\"1\" class=\"dataframe\">\n",
       "  <thead>\n",
       "    <tr style=\"text-align: right;\">\n",
       "      <th></th>\n",
       "      <th>Solar Wind Flag</th>\n",
       "    </tr>\n",
       "  </thead>\n",
       "  <tbody>\n",
       "    <tr>\n",
       "      <th>0</th>\n",
       "      <td>4.0</td>\n",
       "    </tr>\n",
       "    <tr>\n",
       "      <th>1</th>\n",
       "      <td>4.0</td>\n",
       "    </tr>\n",
       "    <tr>\n",
       "      <th>2</th>\n",
       "      <td>4.0</td>\n",
       "    </tr>\n",
       "    <tr>\n",
       "      <th>3</th>\n",
       "      <td>4.0</td>\n",
       "    </tr>\n",
       "    <tr>\n",
       "      <th>4</th>\n",
       "      <td>4.0</td>\n",
       "    </tr>\n",
       "  </tbody>\n",
       "</table>\n",
       "</div>"
      ],
      "text/plain": [
       "   Solar Wind Flag\n",
       "0              4.0\n",
       "1              4.0\n",
       "2              4.0\n",
       "3              4.0\n",
       "4              4.0"
      ]
     },
     "execution_count": 3,
     "metadata": {},
     "output_type": "execute_result"
    }
   ],
   "source": [
    "df_target=pd.DataFrame(table[:,4],columns=['Solar Wind Flag'])\n",
    "df_target.head()"
   ]
  },
  {
   "cell_type": "code",
   "execution_count": 4,
   "metadata": {},
   "outputs": [
    {
     "data": {
      "text/html": [
       "<div>\n",
       "<style scoped>\n",
       "    .dataframe tbody tr th:only-of-type {\n",
       "        vertical-align: middle;\n",
       "    }\n",
       "\n",
       "    .dataframe tbody tr th {\n",
       "        vertical-align: top;\n",
       "    }\n",
       "\n",
       "    .dataframe thead th {\n",
       "        text-align: right;\n",
       "    }\n",
       "</style>\n",
       "<table border=\"1\" class=\"dataframe\">\n",
       "  <thead>\n",
       "    <tr style=\"text-align: right;\">\n",
       "      <th></th>\n",
       "      <th>Bt</th>\n",
       "      <th>Np</th>\n",
       "      <th>Tp(K)</th>\n",
       "      <th>Vp</th>\n",
       "      <th>Sp</th>\n",
       "      <th>Va</th>\n",
       "      <th>Tex/Tp</th>\n",
       "      <th>Na/Np</th>\n",
       "      <th>Pd</th>\n",
       "      <th>Ey</th>\n",
       "      <th>bta</th>\n",
       "      <th>Ma</th>\n",
       "      <th>Mf</th>\n",
       "    </tr>\n",
       "  </thead>\n",
       "  <tbody>\n",
       "    <tr>\n",
       "      <th>0</th>\n",
       "      <td>0.9250</td>\n",
       "      <td>-0.3638</td>\n",
       "      <td>-0.7703</td>\n",
       "      <td>-0.3763</td>\n",
       "      <td>-0.6618</td>\n",
       "      <td>0.8250</td>\n",
       "      <td>0.1800</td>\n",
       "      <td>-0.3294</td>\n",
       "      <td>-0.4889</td>\n",
       "      <td>1.8953</td>\n",
       "      <td>-0.4069</td>\n",
       "      <td>-0.9616</td>\n",
       "      <td>-1.394</td>\n",
       "    </tr>\n",
       "    <tr>\n",
       "      <th>1</th>\n",
       "      <td>0.9468</td>\n",
       "      <td>-0.2611</td>\n",
       "      <td>-0.7691</td>\n",
       "      <td>-0.3544</td>\n",
       "      <td>-0.6785</td>\n",
       "      <td>0.7122</td>\n",
       "      <td>0.1968</td>\n",
       "      <td>-0.8299</td>\n",
       "      <td>-0.4054</td>\n",
       "      <td>1.7812</td>\n",
       "      <td>-0.4014</td>\n",
       "      <td>-0.9106</td>\n",
       "      <td>-1.254</td>\n",
       "    </tr>\n",
       "    <tr>\n",
       "      <th>2</th>\n",
       "      <td>1.0121</td>\n",
       "      <td>-0.2098</td>\n",
       "      <td>-0.8870</td>\n",
       "      <td>-0.4127</td>\n",
       "      <td>-0.7494</td>\n",
       "      <td>0.7122</td>\n",
       "      <td>0.6320</td>\n",
       "      <td>-1.0995</td>\n",
       "      <td>-0.4165</td>\n",
       "      <td>1.4432</td>\n",
       "      <td>-0.4051</td>\n",
       "      <td>-0.9276</td>\n",
       "      <td>-1.324</td>\n",
       "    </tr>\n",
       "    <tr>\n",
       "      <th>3</th>\n",
       "      <td>1.0339</td>\n",
       "      <td>0.0126</td>\n",
       "      <td>-0.9311</td>\n",
       "      <td>-0.4565</td>\n",
       "      <td>-0.7869</td>\n",
       "      <td>0.5054</td>\n",
       "      <td>0.8998</td>\n",
       "      <td>-1.1380</td>\n",
       "      <td>-0.2218</td>\n",
       "      <td>1.0292</td>\n",
       "      <td>-0.3959</td>\n",
       "      <td>-0.8597</td>\n",
       "      <td>-1.114</td>\n",
       "    </tr>\n",
       "    <tr>\n",
       "      <th>4</th>\n",
       "      <td>1.1427</td>\n",
       "      <td>-0.1414</td>\n",
       "      <td>-0.9405</td>\n",
       "      <td>-0.4929</td>\n",
       "      <td>-0.7849</td>\n",
       "      <td>0.7310</td>\n",
       "      <td>0.9277</td>\n",
       "      <td>-1.2150</td>\n",
       "      <td>-0.4110</td>\n",
       "      <td>0.8602</td>\n",
       "      <td>-0.4069</td>\n",
       "      <td>-0.9616</td>\n",
       "      <td>-1.394</td>\n",
       "    </tr>\n",
       "  </tbody>\n",
       "</table>\n",
       "</div>"
      ],
      "text/plain": [
       "       Bt      Np   Tp(K)      Vp      Sp      Va  Tex/Tp   Na/Np      Pd  \\\n",
       "0  0.9250 -0.3638 -0.7703 -0.3763 -0.6618  0.8250  0.1800 -0.3294 -0.4889   \n",
       "1  0.9468 -0.2611 -0.7691 -0.3544 -0.6785  0.7122  0.1968 -0.8299 -0.4054   \n",
       "2  1.0121 -0.2098 -0.8870 -0.4127 -0.7494  0.7122  0.6320 -1.0995 -0.4165   \n",
       "3  1.0339  0.0126 -0.9311 -0.4565 -0.7869  0.5054  0.8998 -1.1380 -0.2218   \n",
       "4  1.1427 -0.1414 -0.9405 -0.4929 -0.7849  0.7310  0.9277 -1.2150 -0.4110   \n",
       "\n",
       "       Ey     bta      Ma     Mf  \n",
       "0  1.8953 -0.4069 -0.9616 -1.394  \n",
       "1  1.7812 -0.4014 -0.9106 -1.254  \n",
       "2  1.4432 -0.4051 -0.9276 -1.324  \n",
       "3  1.0292 -0.3959 -0.8597 -1.114  \n",
       "4  0.8602 -0.4069 -0.9616 -1.394  "
      ]
     },
     "execution_count": 4,
     "metadata": {},
     "output_type": "execute_result"
    }
   ],
   "source": [
    "df_info=pd.DataFrame(table[:,5:18],columns=['Bt','Np','Tp(K)','Vp','Sp','Va','Tex/Tp','Na/Np','Pd','Ey','bta','Ma','Mf'])\n",
    "df_info.head()"
   ]
  },
  {
   "cell_type": "code",
   "execution_count": 5,
   "metadata": {},
   "outputs": [
    {
     "name": "stdout",
     "output_type": "stream",
     "text": [
      "flag\n",
      "1.0    2881\n",
      "2.0    2215\n",
      "3.0    1694\n",
      "4.0    1835\n",
      "dtype: int64\n"
     ]
    }
   ],
   "source": [
    "print(df.groupby('flag').size())"
   ]
  },
  {
   "cell_type": "markdown",
   "metadata": {},
   "source": [
    "# Train Test Split"
   ]
  },
  {
   "cell_type": "code",
   "execution_count": 6,
   "metadata": {},
   "outputs": [],
   "source": [
    "from sklearn.model_selection import train_test_split\n",
    "X_train,X_test,y_train,y_test=train_test_split(df_info,np.ravel(df_target),test_size=0.20,random_state=101)"
   ]
  },
  {
   "cell_type": "code",
   "execution_count": 7,
   "metadata": {},
   "outputs": [
    {
     "name": "stdout",
     "output_type": "stream",
     "text": [
      "(6900, 13) (1725, 13) (6900,) (1725,)\n"
     ]
    }
   ],
   "source": [
    "print(X_train.shape,X_test.shape,y_train.shape,y_test.shape)"
   ]
  },
  {
   "cell_type": "code",
   "execution_count": 8,
   "metadata": {},
   "outputs": [
    {
     "name": "stdout",
     "output_type": "stream",
     "text": [
      "          Bt      Np   Tp(K)      Vp      Sp      Va  Tex/Tp   Na/Np      Pd  \\\n",
      "5813 -1.0345  1.2272 -0.9919 -1.2951 -0.8391 -1.0926  0.1410 -1.2535 -0.1494   \n",
      "1234 -0.0112 -0.4322 -0.9002  0.7540 -0.7348  0.0730  3.2991  3.6368  0.6741   \n",
      "2305 -0.5337 -0.6204  0.7126  1.0967  0.5955 -0.2654 -0.1938  0.0942 -0.0381   \n",
      "2986 -0.3596 -0.8770  1.8274  2.1468  2.8058  0.4490 -0.0878 -0.9070 -0.4277   \n",
      "4128 -0.8603 -0.7915  0.5305  1.1478  0.8416 -0.4346 -0.1045  0.4408 -0.4221   \n",
      "3453 -0.7079 -0.7573  1.2604  1.6582  1.4567 -0.2842 -0.1324  0.4023 -0.0882   \n",
      "8175 -0.7515 -0.2440 -0.7104 -0.7482 -0.6472 -0.6978 -0.2384 -0.9070 -0.6280   \n",
      "1531  0.3154  1.0733 -0.8856 -0.9159 -0.8036 -0.3782  0.0182  0.5563  0.4849   \n",
      "6436 -0.4031 -0.1756 -0.2257 -0.4492 -0.3991 -0.4534 -0.4505  0.2867 -0.2663   \n",
      "1818  0.4025 -0.5520 -0.9958 -0.6607 -0.7869  0.6182  1.3295 -0.6759 -0.8394   \n",
      "\n",
      "          Ey     bta      Ma     Mf  \n",
      "5813 -0.1073  1.9258  2.2140  0.566  \n",
      "1234 -1.3916 -0.3574 -0.2314  0.916  \n",
      "2305  0.1800 -0.1392  0.3290  1.196  \n",
      "2986 -0.6058 -0.2896 -0.1465  0.636  \n",
      "4128 -0.0904 -0.0292  0.7536  1.686  \n",
      "3453  0.5011 -0.0603  0.6517  1.616  \n",
      "8175  0.1462  0.0185  0.3120  0.496  \n",
      "1531  0.5771 -0.2529 -0.3842 -0.274  \n",
      "6436 -0.0354 -0.1319 -0.0616  0.146  \n",
      "1818 -0.1115 -0.4033 -0.9616 -1.394  \n"
     ]
    }
   ],
   "source": [
    "print(X_train.head(10))"
   ]
  },
  {
   "cell_type": "markdown",
   "metadata": {},
   "source": [
    "# Train the KNN Classifier"
   ]
  },
  {
   "cell_type": "code",
   "execution_count": 9,
   "metadata": {},
   "outputs": [
    {
     "data": {
      "text/plain": [
       "KNeighborsClassifier(algorithm='auto', leaf_size=30, metric='minkowski',\n",
       "                     metric_params=None, n_jobs=None, n_neighbors=5, p=2,\n",
       "                     weights='uniform')"
      ]
     },
     "execution_count": 9,
     "metadata": {},
     "output_type": "execute_result"
    }
   ],
   "source": [
    "from sklearn.neighbors import KNeighborsClassifier\n",
    "model=KNeighborsClassifier()\n",
    "model.fit(X_train,y_train)"
   ]
  },
  {
   "cell_type": "code",
   "execution_count": 10,
   "metadata": {},
   "outputs": [
    {
     "name": "stdout",
     "output_type": "stream",
     "text": [
      "Result of first 20 predictions\n",
      ">Actual: 3.0 >Predicted: 3.0\n",
      ">Actual: 2.0 >Predicted: 2.0\n",
      ">Actual: 4.0 >Predicted: 4.0\n",
      ">Actual: 1.0 >Predicted: 1.0\n",
      ">Actual: 2.0 >Predicted: 2.0\n",
      ">Actual: 4.0 >Predicted: 3.0\n",
      ">Actual: 4.0 >Predicted: 4.0\n",
      ">Actual: 4.0 >Predicted: 4.0\n",
      ">Actual: 4.0 >Predicted: 4.0\n",
      ">Actual: 1.0 >Predicted: 1.0\n",
      ">Actual: 4.0 >Predicted: 4.0\n",
      ">Actual: 2.0 >Predicted: 2.0\n",
      ">Actual: 1.0 >Predicted: 1.0\n",
      ">Actual: 4.0 >Predicted: 4.0\n",
      ">Actual: 2.0 >Predicted: 2.0\n",
      ">Actual: 2.0 >Predicted: 2.0\n",
      ">Actual: 4.0 >Predicted: 4.0\n",
      ">Actual: 1.0 >Predicted: 1.0\n",
      ">Actual: 2.0 >Predicted: 2.0\n",
      ">Actual: 3.0 >Predicted: 3.0\n",
      ".\n",
      "Accuracy:91.18840579710145%\n",
      "\n",
      "Confusion Matrix:\n",
      " [[552   2   0   2]\n",
      " [  2 382  31  13]\n",
      " [  6  47 296  16]\n",
      " [  3  19  11 343]]\n",
      "\n",
      "Classification Report:\n",
      "               precision    recall  f1-score   support\n",
      "\n",
      "         1.0       0.98      0.99      0.99       556\n",
      "         2.0       0.85      0.89      0.87       428\n",
      "         3.0       0.88      0.81      0.84       365\n",
      "         4.0       0.92      0.91      0.91       376\n",
      "\n",
      "    accuracy                           0.91      1725\n",
      "   macro avg       0.91      0.90      0.90      1725\n",
      "weighted avg       0.91      0.91      0.91      1725\n",
      "\n"
     ]
    }
   ],
   "source": [
    "predictions=model.predict(X_test)\n",
    "from sklearn.metrics import accuracy_score,classification_report,confusion_matrix\n",
    "print('Result of first 20 predictions')\n",
    "for x in range (0,20):\n",
    "    print('>Actual:',predictions[x],'>Predicted:',y_test[x])\n",
    "\n",
    "print('.\\nAccuracy:'+repr(100*(accuracy_score(y_test,predictions))) +'%')\n",
    "print('\\nConfusion Matrix:\\n',confusion_matrix(y_test,predictions))\n",
    "print('\\nClassification Report:\\n',classification_report(y_test,predictions))\n"
   ]
  },
  {
   "cell_type": "markdown",
   "metadata": {},
   "source": [
    "# Train the Linear Support Vector Machine Classifier"
   ]
  },
  {
   "cell_type": "code",
   "execution_count": 11,
   "metadata": {},
   "outputs": [
    {
     "data": {
      "text/plain": [
       "SVC(C=1.0, break_ties=False, cache_size=200, class_weight=None, coef0=0.0,\n",
       "    decision_function_shape='ovr', degree=3, gamma='scale', kernel='linear',\n",
       "    max_iter=-1, probability=False, random_state=None, shrinking=True,\n",
       "    tol=0.001, verbose=False)"
      ]
     },
     "execution_count": 11,
     "metadata": {},
     "output_type": "execute_result"
    }
   ],
   "source": [
    "from sklearn.svm import SVC\n",
    "model=SVC(kernel='linear')\n",
    "model.fit(X_train,y_train)"
   ]
  },
  {
   "cell_type": "code",
   "execution_count": 12,
   "metadata": {},
   "outputs": [
    {
     "name": "stdout",
     "output_type": "stream",
     "text": [
      "Result of first 20 predictions\n",
      ">Actual: 3.0 >Predicted: 3.0\n",
      ">Actual: 2.0 >Predicted: 2.0\n",
      ">Actual: 2.0 >Predicted: 4.0\n",
      ">Actual: 1.0 >Predicted: 1.0\n",
      ">Actual: 2.0 >Predicted: 2.0\n",
      ">Actual: 4.0 >Predicted: 3.0\n",
      ">Actual: 4.0 >Predicted: 4.0\n",
      ">Actual: 4.0 >Predicted: 4.0\n",
      ">Actual: 4.0 >Predicted: 4.0\n",
      ">Actual: 1.0 >Predicted: 1.0\n",
      ">Actual: 4.0 >Predicted: 4.0\n",
      ">Actual: 2.0 >Predicted: 2.0\n",
      ">Actual: 1.0 >Predicted: 1.0\n",
      ">Actual: 4.0 >Predicted: 4.0\n",
      ">Actual: 2.0 >Predicted: 2.0\n",
      ">Actual: 2.0 >Predicted: 2.0\n",
      ">Actual: 4.0 >Predicted: 4.0\n",
      ">Actual: 1.0 >Predicted: 1.0\n",
      ">Actual: 2.0 >Predicted: 2.0\n",
      ">Actual: 3.0 >Predicted: 3.0\n",
      ".\n",
      "Accuracy:86.55072463768117%\n",
      "\n",
      "Confusion Matrix:\n",
      " [[554   1   1   0]\n",
      " [  1 361  44  22]\n",
      " [ 12  84 242  27]\n",
      " [  4  27   9 336]]\n",
      "\n",
      "Classification Report:\n",
      "               precision    recall  f1-score   support\n",
      "\n",
      "         1.0       0.97      1.00      0.98       556\n",
      "         2.0       0.76      0.84      0.80       428\n",
      "         3.0       0.82      0.66      0.73       365\n",
      "         4.0       0.87      0.89      0.88       376\n",
      "\n",
      "    accuracy                           0.87      1725\n",
      "   macro avg       0.86      0.85      0.85      1725\n",
      "weighted avg       0.87      0.87      0.86      1725\n",
      "\n"
     ]
    }
   ],
   "source": [
    "predictions=model.predict(X_test)\n",
    "from sklearn.metrics import accuracy_score,classification_report,confusion_matrix\n",
    "print('Result of first 20 predictions')\n",
    "for x in range (0,20):\n",
    "    print('>Actual:',predictions[x],'>Predicted:',y_test[x])\n",
    "\n",
    "print('.\\nAccuracy:'+repr(100*(accuracy_score(y_test,predictions))) +'%')\n",
    "print('\\nConfusion Matrix:\\n',confusion_matrix(y_test,predictions))\n",
    "print('\\nClassification Report:\\n',classification_report(y_test,predictions))\n"
   ]
  },
  {
   "cell_type": "markdown",
   "metadata": {},
   "source": [
    "# Train the RBF Support Vector Machine Classifier"
   ]
  },
  {
   "cell_type": "code",
   "execution_count": 13,
   "metadata": {},
   "outputs": [
    {
     "data": {
      "text/plain": [
       "SVC(C=1.0, break_ties=False, cache_size=200, class_weight=None, coef0=0.0,\n",
       "    decision_function_shape='ovr', degree=3, gamma='scale', kernel='rbf',\n",
       "    max_iter=-1, probability=False, random_state=None, shrinking=True,\n",
       "    tol=0.001, verbose=False)"
      ]
     },
     "execution_count": 13,
     "metadata": {},
     "output_type": "execute_result"
    }
   ],
   "source": [
    "from sklearn.svm import SVC\n",
    "model=SVC(kernel='rbf')\n",
    "model.fit(X_train,y_train)"
   ]
  },
  {
   "cell_type": "code",
   "execution_count": 14,
   "metadata": {},
   "outputs": [
    {
     "name": "stdout",
     "output_type": "stream",
     "text": [
      "Result of first 20 predictions\n",
      ">Actual: 3.0 >Predicted: 3.0\n",
      ">Actual: 2.0 >Predicted: 2.0\n",
      ">Actual: 4.0 >Predicted: 4.0\n",
      ">Actual: 1.0 >Predicted: 1.0\n",
      ">Actual: 3.0 >Predicted: 2.0\n",
      ">Actual: 4.0 >Predicted: 3.0\n",
      ">Actual: 4.0 >Predicted: 4.0\n",
      ">Actual: 4.0 >Predicted: 4.0\n",
      ">Actual: 4.0 >Predicted: 4.0\n",
      ">Actual: 1.0 >Predicted: 1.0\n",
      ">Actual: 4.0 >Predicted: 4.0\n",
      ">Actual: 2.0 >Predicted: 2.0\n",
      ">Actual: 1.0 >Predicted: 1.0\n",
      ">Actual: 4.0 >Predicted: 4.0\n",
      ">Actual: 2.0 >Predicted: 2.0\n",
      ">Actual: 2.0 >Predicted: 2.0\n",
      ">Actual: 4.0 >Predicted: 4.0\n",
      ">Actual: 1.0 >Predicted: 1.0\n",
      ">Actual: 2.0 >Predicted: 2.0\n",
      ">Actual: 3.0 >Predicted: 3.0\n",
      ".\n",
      "Accuracy:88.05797101449275%\n",
      "\n",
      "Confusion Matrix:\n",
      " [[552   2   2   0]\n",
      " [  1 365  49  13]\n",
      " [  7  74 259  25]\n",
      " [  3  21   9 343]]\n",
      "\n",
      "Classification Report:\n",
      "               precision    recall  f1-score   support\n",
      "\n",
      "         1.0       0.98      0.99      0.99       556\n",
      "         2.0       0.79      0.85      0.82       428\n",
      "         3.0       0.81      0.71      0.76       365\n",
      "         4.0       0.90      0.91      0.91       376\n",
      "\n",
      "    accuracy                           0.88      1725\n",
      "   macro avg       0.87      0.87      0.87      1725\n",
      "weighted avg       0.88      0.88      0.88      1725\n",
      "\n"
     ]
    }
   ],
   "source": [
    "predictions=model.predict(X_test)\n",
    "from sklearn.metrics import accuracy_score,classification_report,confusion_matrix\n",
    "print('Result of first 20 predictions')\n",
    "for x in range (0,20):\n",
    "    print('>Actual:',predictions[x],'>Predicted:',y_test[x])\n",
    "\n",
    "print('.\\nAccuracy:'+repr(100*(accuracy_score(y_test,predictions))) +'%')\n",
    "print('\\nConfusion Matrix:\\n',confusion_matrix(y_test,predictions))\n",
    "print('\\nClassification Report:\\n',classification_report(y_test,predictions))\n"
   ]
  },
  {
   "cell_type": "markdown",
   "metadata": {},
   "source": [
    "# Train the Naive Bayes Classifier"
   ]
  },
  {
   "cell_type": "code",
   "execution_count": 15,
   "metadata": {},
   "outputs": [
    {
     "data": {
      "text/plain": [
       "GaussianNB(priors=None, var_smoothing=1e-09)"
      ]
     },
     "execution_count": 15,
     "metadata": {},
     "output_type": "execute_result"
    }
   ],
   "source": [
    "from sklearn.naive_bayes import GaussianNB\n",
    "model=GaussianNB()\n",
    "model.fit(X_train,y_train)"
   ]
  },
  {
   "cell_type": "code",
   "execution_count": 16,
   "metadata": {},
   "outputs": [
    {
     "name": "stdout",
     "output_type": "stream",
     "text": [
      "Result of first 20 predictions\n",
      ">Actual: 3.0 >Predicted: 3.0\n",
      ">Actual: 2.0 >Predicted: 2.0\n",
      ">Actual: 4.0 >Predicted: 4.0\n",
      ">Actual: 1.0 >Predicted: 1.0\n",
      ">Actual: 2.0 >Predicted: 2.0\n",
      ">Actual: 4.0 >Predicted: 3.0\n",
      ">Actual: 4.0 >Predicted: 4.0\n",
      ">Actual: 4.0 >Predicted: 4.0\n",
      ">Actual: 4.0 >Predicted: 4.0\n",
      ">Actual: 1.0 >Predicted: 1.0\n",
      ">Actual: 4.0 >Predicted: 4.0\n",
      ">Actual: 2.0 >Predicted: 2.0\n",
      ">Actual: 1.0 >Predicted: 1.0\n",
      ">Actual: 4.0 >Predicted: 4.0\n",
      ">Actual: 2.0 >Predicted: 2.0\n",
      ">Actual: 2.0 >Predicted: 2.0\n",
      ">Actual: 4.0 >Predicted: 4.0\n",
      ">Actual: 1.0 >Predicted: 1.0\n",
      ">Actual: 2.0 >Predicted: 2.0\n",
      ">Actual: 3.0 >Predicted: 3.0\n",
      ".\n",
      "Accuracy:83.30434782608695%\n",
      "\n",
      "Confusion Matrix:\n",
      " [[545   4   1   6]\n",
      " [  6 348  50  24]\n",
      " [  7  96 243  19]\n",
      " [  3  51  21 301]]\n",
      "\n",
      "Classification Report:\n",
      "               precision    recall  f1-score   support\n",
      "\n",
      "         1.0       0.97      0.98      0.98       556\n",
      "         2.0       0.70      0.81      0.75       428\n",
      "         3.0       0.77      0.67      0.71       365\n",
      "         4.0       0.86      0.80      0.83       376\n",
      "\n",
      "    accuracy                           0.83      1725\n",
      "   macro avg       0.83      0.81      0.82      1725\n",
      "weighted avg       0.84      0.83      0.83      1725\n",
      "\n"
     ]
    }
   ],
   "source": [
    "predictions=model.predict(X_test)\n",
    "from sklearn.metrics import accuracy_score,classification_report,confusion_matrix\n",
    "print('Result of first 20 predictions')\n",
    "for x in range (0,20):\n",
    "    print('>Actual:',predictions[x],'>Predicted:',y_test[x])\n",
    "\n",
    "print('.\\nAccuracy:'+repr(100*(accuracy_score(y_test,predictions))) +'%')\n",
    "print('\\nConfusion Matrix:\\n',confusion_matrix(y_test,predictions))\n",
    "print('\\nClassification Report:\\n',classification_report(y_test,predictions))\n"
   ]
  },
  {
   "cell_type": "markdown",
   "metadata": {},
   "source": [
    "# Train the Decision Tree Classifier"
   ]
  },
  {
   "cell_type": "code",
   "execution_count": 17,
   "metadata": {},
   "outputs": [
    {
     "data": {
      "text/plain": [
       "DecisionTreeClassifier(ccp_alpha=0.0, class_weight=None, criterion='gini',\n",
       "                       max_depth=None, max_features=None, max_leaf_nodes=None,\n",
       "                       min_impurity_decrease=0.0, min_impurity_split=None,\n",
       "                       min_samples_leaf=1, min_samples_split=2,\n",
       "                       min_weight_fraction_leaf=0.0, presort='deprecated',\n",
       "                       random_state=None, splitter='best')"
      ]
     },
     "execution_count": 17,
     "metadata": {},
     "output_type": "execute_result"
    }
   ],
   "source": [
    "from sklearn.tree import DecisionTreeClassifier\n",
    "model=DecisionTreeClassifier()\n",
    "model.fit(X_train,y_train)"
   ]
  },
  {
   "cell_type": "code",
   "execution_count": 18,
   "metadata": {},
   "outputs": [
    {
     "name": "stdout",
     "output_type": "stream",
     "text": [
      "Result of first 20 predictions\n",
      ">Actual: 4.0 >Predicted: 3.0\n",
      ">Actual: 2.0 >Predicted: 2.0\n",
      ">Actual: 4.0 >Predicted: 4.0\n",
      ">Actual: 1.0 >Predicted: 1.0\n",
      ">Actual: 2.0 >Predicted: 2.0\n",
      ">Actual: 4.0 >Predicted: 3.0\n",
      ">Actual: 4.0 >Predicted: 4.0\n",
      ">Actual: 4.0 >Predicted: 4.0\n",
      ">Actual: 4.0 >Predicted: 4.0\n",
      ">Actual: 1.0 >Predicted: 1.0\n",
      ">Actual: 4.0 >Predicted: 4.0\n",
      ">Actual: 2.0 >Predicted: 2.0\n",
      ">Actual: 1.0 >Predicted: 1.0\n",
      ">Actual: 4.0 >Predicted: 4.0\n",
      ">Actual: 2.0 >Predicted: 2.0\n",
      ">Actual: 2.0 >Predicted: 2.0\n",
      ">Actual: 4.0 >Predicted: 4.0\n",
      ">Actual: 1.0 >Predicted: 1.0\n",
      ">Actual: 2.0 >Predicted: 2.0\n",
      ">Actual: 3.0 >Predicted: 3.0\n",
      ".\n",
      "Accuracy:88.81159420289855%\n",
      "\n",
      "Confusion Matrix:\n",
      " [[544   2   5   5]\n",
      " [  5 362  49  12]\n",
      " [  3  50 286  26]\n",
      " [  3  20  13 340]]\n",
      "\n",
      "Classification Report:\n",
      "               precision    recall  f1-score   support\n",
      "\n",
      "         1.0       0.98      0.98      0.98       556\n",
      "         2.0       0.83      0.85      0.84       428\n",
      "         3.0       0.81      0.78      0.80       365\n",
      "         4.0       0.89      0.90      0.90       376\n",
      "\n",
      "    accuracy                           0.89      1725\n",
      "   macro avg       0.88      0.88      0.88      1725\n",
      "weighted avg       0.89      0.89      0.89      1725\n",
      "\n"
     ]
    }
   ],
   "source": [
    "predictions=model.predict(X_test)\n",
    "from sklearn.metrics import accuracy_score,classification_report,confusion_matrix\n",
    "print('Result of first 20 predictions')\n",
    "for x in range (0,20):\n",
    "    print('>Actual:',predictions[x],'>Predicted:',y_test[x])\n",
    "\n",
    "print('.\\nAccuracy:'+repr(100*(accuracy_score(y_test,predictions))) +'%')\n",
    "print('\\nConfusion Matrix:\\n',confusion_matrix(y_test,predictions))\n",
    "print('\\nClassification Report:\\n',classification_report(y_test,predictions))\n"
   ]
  },
  {
   "cell_type": "markdown",
   "metadata": {},
   "source": [
    "# Train the Logistic Regression Classifier"
   ]
  },
  {
   "cell_type": "code",
   "execution_count": 19,
   "metadata": {},
   "outputs": [
    {
     "data": {
      "text/plain": [
       "LogisticRegression(C=1.0, class_weight=None, dual=False, fit_intercept=True,\n",
       "                   intercept_scaling=1, l1_ratio=None, max_iter=1000,\n",
       "                   multi_class='auto', n_jobs=None, penalty='l2',\n",
       "                   random_state=None, solver='lbfgs', tol=0.0001, verbose=0,\n",
       "                   warm_start=False)"
      ]
     },
     "execution_count": 19,
     "metadata": {},
     "output_type": "execute_result"
    }
   ],
   "source": [
    "from sklearn.linear_model import LogisticRegression\n",
    "model=LogisticRegression(max_iter=1000)\n",
    "model.fit(X_train,y_train)"
   ]
  },
  {
   "cell_type": "code",
   "execution_count": 20,
   "metadata": {},
   "outputs": [
    {
     "name": "stdout",
     "output_type": "stream",
     "text": [
      "Result of first 20 predictions\n",
      ">Actual: 3.0 >Predicted: 3.0\n",
      ">Actual: 2.0 >Predicted: 2.0\n",
      ">Actual: 2.0 >Predicted: 4.0\n",
      ">Actual: 1.0 >Predicted: 1.0\n",
      ">Actual: 2.0 >Predicted: 2.0\n",
      ">Actual: 4.0 >Predicted: 3.0\n",
      ">Actual: 4.0 >Predicted: 4.0\n",
      ">Actual: 4.0 >Predicted: 4.0\n",
      ">Actual: 4.0 >Predicted: 4.0\n",
      ">Actual: 1.0 >Predicted: 1.0\n",
      ">Actual: 4.0 >Predicted: 4.0\n",
      ">Actual: 2.0 >Predicted: 2.0\n",
      ">Actual: 1.0 >Predicted: 1.0\n",
      ">Actual: 4.0 >Predicted: 4.0\n",
      ">Actual: 2.0 >Predicted: 2.0\n",
      ">Actual: 2.0 >Predicted: 2.0\n",
      ">Actual: 4.0 >Predicted: 4.0\n",
      ">Actual: 1.0 >Predicted: 1.0\n",
      ">Actual: 2.0 >Predicted: 2.0\n",
      ">Actual: 3.0 >Predicted: 3.0\n",
      ".\n",
      "Accuracy:86.02898550724638%\n",
      "\n",
      "Confusion Matrix:\n",
      " [[548   7   1   0]\n",
      " [  1 362  44  21]\n",
      " [  8  95 239  23]\n",
      " [  3  26  12 335]]\n",
      "\n",
      "Classification Report:\n",
      "               precision    recall  f1-score   support\n",
      "\n",
      "         1.0       0.98      0.99      0.98       556\n",
      "         2.0       0.74      0.85      0.79       428\n",
      "         3.0       0.81      0.65      0.72       365\n",
      "         4.0       0.88      0.89      0.89       376\n",
      "\n",
      "    accuracy                           0.86      1725\n",
      "   macro avg       0.85      0.84      0.85      1725\n",
      "weighted avg       0.86      0.86      0.86      1725\n",
      "\n"
     ]
    }
   ],
   "source": [
    "predictions=model.predict(X_test)\n",
    "from sklearn.metrics import accuracy_score,classification_report,confusion_matrix\n",
    "print('Result of first 20 predictions')\n",
    "for x in range (0,20):\n",
    "    print('>Actual:',predictions[x],'>Predicted:',y_test[x])\n",
    "\n",
    "print('.\\nAccuracy:'+repr(100*(accuracy_score(y_test,predictions))) +'%')\n",
    "print('\\nConfusion Matrix:\\n',confusion_matrix(y_test,predictions))\n",
    "print('\\nClassification Report:\\n',classification_report(y_test,predictions))\n"
   ]
  },
  {
   "cell_type": "code",
   "execution_count": null,
   "metadata": {},
   "outputs": [],
   "source": []
  }
 ],
 "metadata": {
  "kernelspec": {
   "display_name": "Python 3",
   "language": "python",
   "name": "python3"
  },
  "language_info": {
   "codemirror_mode": {
    "name": "ipython",
    "version": 3
   },
   "file_extension": ".py",
   "mimetype": "text/x-python",
   "name": "python",
   "nbconvert_exporter": "python",
   "pygments_lexer": "ipython3",
   "version": "3.7.6"
  }
 },
 "nbformat": 4,
 "nbformat_minor": 4
}
